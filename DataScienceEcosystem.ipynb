{
 "cells": [
  {
   "cell_type": "markdown",
   "id": "5e038f3e-e150-413c-b79e-fb2577ab33a3",
   "metadata": {
    "tags": []
   },
   "source": [
    "# Exercise 2 - Create a markdown cell with the title Data Science Tools and Ecosystem using H1 style heading.\n",
    "\n",
    "# Data Science Tools and Ecosystem"
   ]
  },
  {
   "cell_type": "markdown",
   "id": "1e3b512c-87b8-4adf-b8a7-74842a9d5e9c",
   "metadata": {},
   "source": [
    "# Exercise 3 - Create a markdown cell for an introduction\n",
    "\n",
    "In this notebook, Data Science Tools and Ecosystem are summarized."
   ]
  },
  {
   "cell_type": "markdown",
   "id": "b1ad952b-6503-4ea6-88a5-ee8e3de3b846",
   "metadata": {
    "tags": []
   },
   "source": [
    "# Exercise 10 - Insert a markdown cell to list Objectives\n",
    "\n",
    "__Objectives:__\n",
    "* Learning the overview of data science tools\n",
    "* Learning the most important languages of data science \n",
    "* Learning the fundamental packages, APIs, data sets and models of data science\n",
    "* Learning the use of Jupyter Notebooks and JupyterLab\n",
    "* Learning the use of RStudio and GitHub "
   ]
  },
  {
   "cell_type": "markdown",
   "id": "062908a5-5ee9-4508-9812-f19e7a51dbbb",
   "metadata": {},
   "source": [
    "# Exercise 4 - Create a markdown cell to list data science languages\n",
    "\n",
    "Some of the popular languages that Data Scientists use are:\n",
    "1. Python\n",
    "2. R\n",
    "3. SQL\n",
    "4. JavaScript\n",
    "5. Java\n",
    "6. C++\n",
    "7. Scala\n"
   ]
  },
  {
   "cell_type": "markdown",
   "id": "7711ac3a-19d3-46c7-b72e-2689e61a631c",
   "metadata": {},
   "source": [
    "# Exercise 5 - Create a markdown cell to list data science libraries\n",
    "\n",
    "Some of the commonly used libraries used by Data Scientists include:\n",
    "1. Pandas\n",
    "2. NumPy\n",
    "3. SciPy\n",
    "4. Matplotlib"
   ]
  },
  {
   "cell_type": "markdown",
   "id": "f17e45c9-ae2d-404f-ac9b-837766fc10e6",
   "metadata": {},
   "source": [
    "# Exercise 6 - Create a markdown cell with a table of Data Science tools\n",
    "\n",
    "|Data Science Tools|\n",
    "| -----------------|\n",
    "|Jupyter Notebooks|\n",
    "|RStudio|\n",
    "|Visual Studio Code|\n",
    "|Google Colaboratory|"
   ]
  },
  {
   "cell_type": "markdown",
   "id": "61928573-b5a2-4abf-93ab-86b34dbaeb9a",
   "metadata": {},
   "source": [
    "# Exercise 7 - Create a markdown cell introducing arithmetic expression examples\n",
    "\n",
    "### Below are a few examples of evaluating arithmetic expressions in Python."
   ]
  },
  {
   "cell_type": "code",
   "execution_count": 2,
   "id": "a6c87add-bf26-4d98-a80f-7e571e03b674",
   "metadata": {
    "tags": []
   },
   "outputs": [
    {
     "data": {
      "text/plain": [
       "17"
      ]
     },
     "execution_count": 2,
     "metadata": {},
     "output_type": "execute_result"
    }
   ],
   "source": [
    "# Exercise 8 - Create a code cell to multiply and add numbers\n",
    "# This a simple arithmetic expression to mutiply then add integers\n",
    "\n",
    "(3*4)+5"
   ]
  },
  {
   "cell_type": "code",
   "execution_count": 3,
   "id": "cabac69b-6894-45c9-a82a-3946441045e6",
   "metadata": {
    "tags": []
   },
   "outputs": [
    {
     "data": {
      "text/plain": [
       "3.3333333333333335"
      ]
     },
     "execution_count": 3,
     "metadata": {},
     "output_type": "execute_result"
    }
   ],
   "source": [
    "# Exercise 9 - Create a code cell to convert minutes to hours\n",
    "# This will convert 200 minutes to hours by diving by 60\n",
    "\n",
    "200/60"
   ]
  },
  {
   "cell_type": "markdown",
   "id": "106d48d1-2d5f-4036-86e2-a25c71b7bec9",
   "metadata": {},
   "source": [
    "# Exercise 11 - Create a markdown cell to indicate the Author's name\n",
    "\n",
    "## Author\n",
    "Giuseppe Gullì"
   ]
  },
  {
   "cell_type": "code",
   "execution_count": null,
   "id": "0541581b-7b1f-4855-9321-e43fd06efcf7",
   "metadata": {},
   "outputs": [],
   "source": []
  }
 ],
 "metadata": {
  "kernelspec": {
   "display_name": "Python",
   "language": "python",
   "name": "conda-env-python-py"
  },
  "language_info": {
   "codemirror_mode": {
    "name": "ipython",
    "version": 3
   },
   "file_extension": ".py",
   "mimetype": "text/x-python",
   "name": "python",
   "nbconvert_exporter": "python",
   "pygments_lexer": "ipython3",
   "version": "3.7.12"
  }
 },
 "nbformat": 4,
 "nbformat_minor": 5
}
